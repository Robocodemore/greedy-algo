{
 "cells": [
  {
   "cell_type": "markdown",
   "metadata": {
    "graffitiCellId": "id_m2e34is"
   },
   "source": [
    "## Problem Statement\n",
    "\n",
    "Given arrival and departure times of trains on a single day in a railway platform, find out the minimum number of platforms required so that no train has to wait for the other(s) to leave. \n",
    "\n",
    "You will be given arrival and departure times in the form of a list.\n",
    "\n",
    "Note: Time `hh:mm` would be written as integer `hhmm` for e.g. `9:30` would be written as `930`. Similarly, `13:45` would be given as `1345`"
   ]
  },
  {
   "cell_type": "code",
   "execution_count": null,
   "metadata": {
    "graffitiCellId": "id_wvs8xy1"
   },
   "outputs": [],
   "source": [
    "def min_platforms(arrival, departure):\n",
    "    \"\"\"\n",
    "    :param: arrival - list of arrival time\n",
    "    :param: departure - list of departure time\n",
    "    TODO - complete this method and return the minimum number of platforms (int) required\n",
    "    so that no train has to wait for other(s) to leave\n",
    "    \"\"\"\n",
    "    return"
   ]
  },
  {
   "cell_type": "markdown",
   "metadata": {
    "graffitiCellId": "id_khuho24"
   },
   "source": [
    "<span class=\"graffiti-highlight graffiti-id_khuho24-id_mgzo0p4\"><i></i><button>Hide Solution</button></span>"
   ]
  },
  {
   "cell_type": "code",
   "execution_count": 7,
   "metadata": {
    "graffitiCellId": "id_mgzo0p4"
   },
   "outputs": [],
   "source": [
    "def min_platforms(arrival, departure):\n",
    "    # sort the lists in ascending order\n",
    "    arrival.sort()\n",
    "    departure.sort()\n",
    "    \n",
    "    # initialize the platform for the first arrival\n",
    "    platform_count = 1\n",
    "    output = 1\n",
    "    \n",
    "    i = 1 # iterator for the arrival (start at the second arrival)\n",
    "    j = 0 # iterator for the departure\n",
    "    \n",
    "    # the arrival list may be longer than the departure list\n",
    "    # some trains may not leave the station\n",
    "\n",
    "    while i < len(arrival) and j < len(arrival):\n",
    "        print('arrival time: {} \\t departure time: {}'.format(arrival[i],departure[j]))\n",
    "        # if the arrival time of a train in the station is less than the \n",
    "        # earliest departure time of the trains in the station:\n",
    "        if arrival[i] < departure[j]:\n",
    "    \n",
    "            platform_count += 1 # increment the number of platforms\n",
    "            i += 1 # move to the next arrival time (train)\n",
    "            \n",
    "            # we need a variable output to keep track of the maximum deadlock\n",
    "            # note that the platform count can increase and decrease\n",
    "            if platform_count > output:\n",
    "                output = platform_count\n",
    "\n",
    "        else: # otherwise a train left the station before the current arrival train\n",
    "            platform_count -= 1 # decrement the number of platforms\n",
    "            j += 1 # move to the next departure time (train)\n",
    "        print('platform count: {} \\t output: {}'.format(platform_count, output))\n",
    "\n",
    "    return output"
   ]
  },
  {
   "cell_type": "code",
   "execution_count": 8,
   "metadata": {
    "graffitiCellId": "id_z8cclxx"
   },
   "outputs": [],
   "source": [
    "def test_function(test_case):\n",
    "    arrival = test_case[0]\n",
    "    departure = test_case[1]\n",
    "    solution = test_case[2]\n",
    "    \n",
    "    output = min_platforms(arrival, departure)\n",
    "    if output == solution:\n",
    "        print(\"Pass\")\n",
    "    else:\n",
    "        print(\"Fail\")"
   ]
  },
  {
   "cell_type": "code",
   "execution_count": 9,
   "metadata": {
    "graffitiCellId": "id_3y01n63"
   },
   "outputs": [
    {
     "name": "stdout",
     "output_type": "stream",
     "text": [
      "arrival time: 940 \t departure time: 910\n",
      "platform count: 0 \t output: 1\n",
      "arrival time: 940 \t departure time: 1120\n",
      "platform count: 1 \t output: 1\n",
      "arrival time: 950 \t departure time: 1120\n",
      "platform count: 2 \t output: 2\n",
      "arrival time: 1100 \t departure time: 1120\n",
      "platform count: 3 \t output: 3\n",
      "arrival time: 1500 \t departure time: 1120\n",
      "platform count: 2 \t output: 3\n",
      "arrival time: 1500 \t departure time: 1130\n",
      "platform count: 1 \t output: 3\n",
      "arrival time: 1500 \t departure time: 1200\n",
      "platform count: 0 \t output: 3\n",
      "arrival time: 1500 \t departure time: 1900\n",
      "platform count: 1 \t output: 3\n",
      "arrival time: 1800 \t departure time: 1900\n",
      "platform count: 2 \t output: 3\n",
      "Pass\n"
     ]
    }
   ],
   "source": [
    "arrival = [900,  940, 950,  1100, 1500, 1800]\n",
    "departure = [910, 1200, 1120, 1130, 1900, 2000]\n",
    "test_case = [arrival, departure, 3]\n",
    "\n",
    "test_function(test_case)"
   ]
  },
  {
   "cell_type": "code",
   "execution_count": 10,
   "metadata": {
    "graffitiCellId": "id_sdzncbd"
   },
   "outputs": [
    {
     "name": "stdout",
     "output_type": "stream",
     "text": [
      "arrival time: 210 \t departure time: 230\n",
      "platform count: 2 \t output: 2\n",
      "arrival time: 300 \t departure time: 230\n",
      "platform count: 1 \t output: 2\n",
      "arrival time: 300 \t departure time: 320\n",
      "platform count: 2 \t output: 2\n",
      "arrival time: 320 \t departure time: 320\n",
      "platform count: 1 \t output: 2\n",
      "arrival time: 320 \t departure time: 340\n",
      "platform count: 2 \t output: 2\n",
      "arrival time: 350 \t departure time: 340\n",
      "platform count: 1 \t output: 2\n",
      "arrival time: 350 \t departure time: 400\n",
      "platform count: 2 \t output: 2\n",
      "arrival time: 500 \t departure time: 400\n",
      "platform count: 1 \t output: 2\n",
      "arrival time: 500 \t departure time: 430\n",
      "platform count: 0 \t output: 2\n",
      "arrival time: 500 \t departure time: 520\n",
      "platform count: 1 \t output: 2\n",
      "Pass\n"
     ]
    }
   ],
   "source": [
    "arrival = [200, 210, 300, 320, 350, 500]\n",
    "departure = [230, 340, 320, 430, 400, 520]\n",
    "test_case = [arrival, departure, 2]\n",
    "test_function(test_case)"
   ]
  },
  {
   "cell_type": "code",
   "execution_count": null,
   "metadata": {
    "graffitiCellId": "id_j28y1aq"
   },
   "outputs": [],
   "source": []
  }
 ],
 "metadata": {
  "graffiti": {
   "firstAuthorId": "dev",
   "id": "id_zzreyx5",
   "language": "EN"
  },
  "kernelspec": {
   "display_name": "Python 3",
   "language": "python",
   "name": "python3"
  },
  "language_info": {
   "codemirror_mode": {
    "name": "ipython",
    "version": 3
   },
   "file_extension": ".py",
   "mimetype": "text/x-python",
   "name": "python",
   "nbconvert_exporter": "python",
   "pygments_lexer": "ipython3",
   "version": "3.6.3"
  }
 },
 "nbformat": 4,
 "nbformat_minor": 2
}
